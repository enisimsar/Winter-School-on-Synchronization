{
 "cells": [
  {
   "cell_type": "markdown",
   "metadata": {},
   "source": [
    "# Introduction to Dynamical Systems"
   ]
  },
  {
   "cell_type": "code",
   "execution_count": 1,
   "metadata": {},
   "outputs": [],
   "source": [
    "import numpy as np\n",
    "import scipy as sp\n",
    "import matplotlib.pyplot as plt\n",
    "from mpl_toolkits import mplot3d\n",
    "%config InlineBackend.figure_format = 'retina'\n",
    "import matplotlib as mpl"
   ]
  },
  {
   "cell_type": "markdown",
   "metadata": {},
   "source": [
    "### Euler Method (Tangent Line Method)\n",
    "\n",
    "The tangent line approximation of $y$ at $t$ can be written as:\n",
    "\\begin{align}\n",
    "y(t) &= y_0 + f(t_0,y_0)(t_1-t_0)\n",
    "\\end{align}\n",
    "\n",
    "When the distance $\\|t_1-t_0\\|$ is very small, this is a good approximation. The idea is to have a very small fixed time interval $d$ and iteratively approximate the values of $y$ around some neighborhood of $t_0$."
   ]
  },
  {
   "cell_type": "code",
   "execution_count": 8,
   "metadata": {},
   "outputs": [],
   "source": [
    "# You should write Euler integration here\n",
    "\n",
    "\n",
    "\n",
    "\n"
   ]
  },
  {
   "cell_type": "markdown",
   "metadata": {},
   "source": [
    "### Heun's Method (Runge-Kutta $2^{nd}$ order Method)\n",
    "\n",
    "Heun method is improved version of Euler's, a predictor-corrector method. The method uses dynamics to predict the slope at next step, then corrects Euler's method by averaging two consecutive tangent lines.\n",
    "\n",
    "This method is a $2^{nd}$ order accurate method which means local error is on the order of $\\mathcal{0}(h^3)$.\n",
    "\n",
    "\\begin{align}\n",
    "y_{t+h} &= y_t + \\frac{f(t)+ f(t+h)}{2} h\n",
    "\\end{align}"
   ]
  },
  {
   "cell_type": "code",
   "execution_count": 6,
   "metadata": {},
   "outputs": [],
   "source": [
    "# You should write Heun integration here\n",
    "\n",
    "\n",
    "\n"
   ]
  },
  {
   "cell_type": "markdown",
   "metadata": {},
   "source": [
    "### Runge-Kutta $4^{th}$ order Method\n",
    "RK4 method, the most famous member of the Runge-Kutta family, is a $4^{th}$ order accurate method which means local error is on the order of $\\mathcal{0}(h^5)$. The method is based on the following:\n",
    "\n",
    "\\begin{align}\n",
    "y(x_t) &= y(x_{t-1}) + \\frac{1}{6}(k_1+2k_2+2k_3+k_4)\\\\\n",
    "h &= x_t-x_{t-1}\\\\\n",
    "k_1 &= h f(x_{t-1},y_{t-1})\\\\\n",
    "k_2 &= h f(x_{t-1}+\\frac{h}{2}, y_{t-1}+\\frac{k_1}{2})\\\\\n",
    "k_3 &= h f(x_{t-1}+\\frac{h}{2}, y_{t-1}+\\frac{k_2}{2})\\\\\n",
    "k_4 &= h f(x_{t-1}+\\frac{h}{2}, y_{t-1}+k_3)\\\\\n",
    "\\end{align}"
   ]
  },
  {
   "cell_type": "code",
   "execution_count": 7,
   "metadata": {},
   "outputs": [],
   "source": [
    "# You should write RK4 integration here\n",
    "\n",
    "\n"
   ]
  },
  {
   "cell_type": "markdown",
   "metadata": {},
   "source": [
    "### 1-d Differential Equation\n",
    "We define a $1^{st}$ order differential equation with the general form $\\dot{y}=f(y,t)$ where $\\dot{y}$ is the derivative of the function $y(t)$ with respect to time $t$.<br>\n",
    "For a simple example, let us choose the equation $\\dot{y}=2y$\n",
    "with the initial condition that $y(0)=1$. "
   ]
  },
  {
   "cell_type": "code",
   "execution_count": 9,
   "metadata": {},
   "outputs": [],
   "source": [
    "# As an example for 1d diff equation, solve the problem defined above with three integration methods\n",
    "# Then compare your results with the analytical solution\n",
    "\n",
    "\n",
    "\n",
    "\n",
    "\n"
   ]
  },
  {
   "cell_type": "markdown",
   "metadata": {},
   "source": [
    "### 2-d Differential Equation\n",
    "Now, we are going to take a look at an application of $2^{nd}$ order differential equation, in particular mass-spring problem.\n",
    "\\begin{align}\n",
    "m \\frac{d^{2}y}{dt^2} &= -k y\n",
    "\\end{align}\n",
    "Assume for simplicity $\\frac{k}{m} = 1$ where $k$ is the spring constant and $m$ is the mass. Our problem turns into: \n",
    "\\begin{align}\n",
    "\\frac{d^{2}y}{dt^2} &= -y\n",
    "\\end{align}\n",
    "\n",
    "Assume the initial condition is $y(0)=1$ and $\\dot{y}(0)=0$"
   ]
  },
  {
   "cell_type": "code",
   "execution_count": 10,
   "metadata": {},
   "outputs": [],
   "source": [
    "# Now you should compare the results of numerical solutions and analytical solution for a 2d problem\n",
    "\n",
    "\n",
    "\n",
    "\n",
    "\n"
   ]
  },
  {
   "cell_type": "markdown",
   "metadata": {},
   "source": [
    "# Synchronization of Linear Systems"
   ]
  },
  {
   "cell_type": "markdown",
   "metadata": {},
   "source": [
    "### Synchronization of two linearly coupled linear systems\n",
    "\n",
    "Analytical investigation predicts that these two systems synchronize at:\n",
    "\n",
    "\\begin{align}\n",
    "\\alpha_c = \\frac{a}{2} \n",
    "\\end{align}\n",
    "\n",
    "So, as long as\n",
    "\n",
    "\\begin{align}\n",
    "\\alpha_c \\geq \\frac{a}{2} \n",
    "\\end{align}\n",
    "\n",
    "synchronization should occur. Let our systems be by defined by the equations:\n",
    "\n",
    "\\begin{aligned}\n",
    "\\dot{y_1} &= ay_1 + \\alpha (y_2 - y_1)\\\\\n",
    "\\dot{y_2} &= ay_2 + \\alpha (y_1 - y_2)\n",
    "\\end{aligned}\n",
    "\n"
   ]
  },
  {
   "cell_type": "code",
   "execution_count": 11,
   "metadata": {},
   "outputs": [],
   "source": [
    "# Define a function for two coupled linear system and then integrate it with your Runge-Kutta integrator\n",
    "# Tune the alpha parameter to see the synchronization case\n",
    "\n",
    "\n",
    "\n",
    "\n",
    "\n",
    "\n"
   ]
  },
  {
   "cell_type": "markdown",
   "metadata": {},
   "source": [
    "The synchronization error can be defined by:\n",
    "\\begin{align}\n",
    "E = \\frac{1}{N(N-1)}\\sum_{i,j\\gt 1} |x_i - x_j|\n",
    "\\end{align}\n",
    "But as $\\|x_i - x_j\\| = \\|x_j - x_i\\| $, this sum could be written as:\n",
    "\n",
    "\\begin{align}\n",
    "E = \\frac{2}{N(N-1)}\\sum_{i = 1}^{N} \\sum_{j=1}^{i} |x_i - x_j|\n",
    "\\end{align}\n"
   ]
  },
  {
   "cell_type": "code",
   "execution_count": 12,
   "metadata": {},
   "outputs": [],
   "source": [
    "# Define a function for synchronization error and then plot the error\n",
    "\n",
    "\n",
    "\n",
    "\n",
    "\n"
   ]
  },
  {
   "cell_type": "markdown",
   "metadata": {},
   "source": [
    "### Synchronization of N linearly coupled linear systems\n",
    "\n",
    "Analytical investigation predicts that these N systems synchronize at:\n",
    "\n",
    "\\begin{align}\n",
    "\\alpha_c = \\frac{a}{N} \n",
    "\\end{align}\n",
    "\n",
    "where $N$ is the number of variables. So, as long as\n",
    "\n",
    "\\begin{align}\n",
    "\\alpha_c \\geq \\frac{a}{N} \n",
    "\\end{align}\n",
    "\n",
    "systems are expected to synchronize.\n",
    "\n",
    "Things to note: \n",
    "\n",
    "* As $\\alpha$ is increased synchronization happens much fast. Is that expected?\n",
    "* At $\\alpha = \\frac{a}{N}$ systems are neutrally stable?\n",
    "* What happens as N tends to infinity?"
   ]
  },
  {
   "cell_type": "markdown",
   "metadata": {},
   "source": [
    "\\begin{align}\n",
    "\\dot{y_i} = ay_i + \\alpha \\sum_{j=1}^{N} (y_j - y_i)\n",
    "\\end{align}"
   ]
  },
  {
   "cell_type": "code",
   "execution_count": 13,
   "metadata": {},
   "outputs": [],
   "source": [
    "# Define a function for N linearly coupled linear systems\n",
    "# Use RK4 algorithm for the integration\n",
    "# Tune the alpha parameter around its critical value and see the behaviour\n",
    "# Plot the synchronization error\n",
    "\n",
    "\n",
    "\n",
    "\n",
    "\n",
    "\n",
    "\n",
    "\n",
    "\n"
   ]
  }
 ],
 "metadata": {
  "kernelspec": {
   "display_name": "Python (network)",
   "language": "python",
   "name": "network"
  },
  "language_info": {
   "codemirror_mode": {
    "name": "ipython",
    "version": 3
   },
   "file_extension": ".py",
   "mimetype": "text/x-python",
   "name": "python",
   "nbconvert_exporter": "python",
   "pygments_lexer": "ipython3",
   "version": "3.8.1"
  }
 },
 "nbformat": 4,
 "nbformat_minor": 4
}
